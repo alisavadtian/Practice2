{
  "nbformat": 4,
  "nbformat_minor": 0,
  "metadata": {
    "colab": {
      "provenance": []
    },
    "kernelspec": {
      "name": "python3",
      "display_name": "Python 3"
    },
    "language_info": {
      "name": "python"
    }
  },
  "cells": [
    {
      "cell_type": "code",
      "source": [
        "class Chocolate:\n",
        " def __init__(self, price, additives):\n",
        "  self.price = price\n",
        "  self.additives = additives\n",
        "\n",
        "\n",
        " def show_my_chocolate(self):\n",
        "  if self.additives:\n",
        "   print(f'Шоколадный батончик, добавка: {self.additives}')\n",
        "  else:\n",
        "    print('Обычный шоколадный батончик')\n",
        "\n",
        "\n",
        " def __str__(self):\n",
        "     return f'Шоколадный батончик, {self.price} рублей'\n",
        "\n",
        "\n",
        "MilkyWay = Chocolate(45.0, 0)\n",
        "Bounty = Chocolate(80.5 , 'манго')\n",
        "Snickers = Chocolate(95.5, 'миндаль')\n",
        "\n",
        "\n"
      ],
      "metadata": {
        "id": "-L72LVf_i0LL"
      },
      "execution_count": 137,
      "outputs": []
    },
    {
      "cell_type": "code",
      "source": [
        "print(MilkyWay)\n",
        "MilkyWay.show_my_chocolate()"
      ],
      "metadata": {
        "colab": {
          "base_uri": "https://localhost:8080/"
        },
        "id": "hAhFHHbr12Ya",
        "outputId": "9f978614-701f-496c-cf01-b8e50615eb67"
      },
      "execution_count": 136,
      "outputs": [
        {
          "output_type": "stream",
          "name": "stdout",
          "text": [
            "Шоколадный батончик, 45.0 рублей\n",
            "Обычный шоколадный батончик\n"
          ]
        }
      ]
    },
    {
      "cell_type": "code",
      "source": [
        "print(Bounty)\n",
        "Bounty.show_my_chocolate()"
      ],
      "metadata": {
        "colab": {
          "base_uri": "https://localhost:8080/"
        },
        "id": "Xs1aKza-7yzO",
        "outputId": "fa4156d5-d891-4e30-fd30-658a0efa4a47"
      },
      "execution_count": 129,
      "outputs": [
        {
          "output_type": "stream",
          "name": "stdout",
          "text": [
            "Шоколадный батончик, 80.5 рублей\n",
            "Шоколадный батончик, добавка: манго\n"
          ]
        }
      ]
    },
    {
      "cell_type": "code",
      "source": [
        "print(Snickers)\n",
        "Snickers.show_my_chocolate()"
      ],
      "metadata": {
        "colab": {
          "base_uri": "https://localhost:8080/"
        },
        "id": "QhbwTlgO71qS",
        "outputId": "485646da-b0e3-414f-dcff-8d1a11cf3ca0"
      },
      "execution_count": 130,
      "outputs": [
        {
          "output_type": "stream",
          "name": "stdout",
          "text": [
            "Шоколадный батончик, 95.5 рублей\n",
            "Шоколадный батончик, добавка: миндаль\n"
          ]
        }
      ]
    }
  ]
}